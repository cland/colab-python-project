{
  "nbformat": 4,
  "nbformat_minor": 0,
  "metadata": {
    "colab": {
      "provenance": [],
      "toc_visible": true,
      "authorship_tag": "ABX9TyNE6SaMgitYLeo2hP3D7VFd",
      "include_colab_link": true
    },
    "kernelspec": {
      "name": "python3",
      "display_name": "Python 3"
    },
    "language_info": {
      "name": "python"
    }
  },
  "cells": [
    {
      "cell_type": "markdown",
      "metadata": {
        "id": "view-in-github",
        "colab_type": "text"
      },
      "source": [
        "<a href=\"https://colab.research.google.com/github/cland/colab-python-project/blob/master/getting_started_python.ipynb\" target=\"_parent\"><img src=\"https://colab.research.google.com/assets/colab-badge.svg\" alt=\"Open In Colab\"/></a>"
      ]
    },
    {
      "cell_type": "markdown",
      "source": [
        "#**Introduction to Python**"
      ],
      "metadata": {
        "id": "x3iD3VkbHyKF"
      }
    },
    {
      "cell_type": "code",
      "execution_count": 3,
      "metadata": {
        "colab": {
          "base_uri": "https://localhost:8080/"
        },
        "id": "vG1MqPdyFuEG",
        "outputId": "9ae89a45-3a0b-4743-a733-7bcd3c8c413c"
      },
      "outputs": [
        {
          "output_type": "stream",
          "name": "stdout",
          "text": [
            "hello world\n"
          ]
        }
      ],
      "source": [
        "print(\"hello world\")"
      ]
    },
    {
      "cell_type": "code",
      "source": [
        "name=\"bob\"\n",
        "print(f\"hello {name}\")"
      ],
      "metadata": {
        "colab": {
          "base_uri": "https://localhost:8080/"
        },
        "id": "reh-o0P0KYXm",
        "outputId": "b5f02bb1-66d2-4de3-c2f4-2a083cefdc09"
      },
      "execution_count": 4,
      "outputs": [
        {
          "output_type": "stream",
          "name": "stdout",
          "text": [
            "hello bob\n"
          ]
        }
      ]
    },
    {
      "cell_type": "markdown",
      "source": [
        "### Datastructures: Lists and Dictionaries"
      ],
      "metadata": {
        "id": "koh9PaCAKnAh"
      }
    },
    {
      "cell_type": "markdown",
      "source": [
        "####LISTS"
      ],
      "metadata": {
        "id": "iq0JL-qYLRRN"
      }
    },
    {
      "cell_type": "code",
      "source": [
        "fruit=[\"apple\",\"strawberry\",\"peer\"]"
      ],
      "metadata": {
        "id": "iJjZ-PHOKsvl"
      },
      "execution_count": 5,
      "outputs": []
    },
    {
      "cell_type": "code",
      "source": [
        "type(fruit)"
      ],
      "metadata": {
        "colab": {
          "base_uri": "https://localhost:8080/"
        },
        "id": "zQSunEOkK81d",
        "outputId": "f9aa6517-9dbd-4a48-e0a1-86aedd4bb721"
      },
      "execution_count": 6,
      "outputs": [
        {
          "output_type": "execute_result",
          "data": {
            "text/plain": [
              "list"
            ]
          },
          "metadata": {},
          "execution_count": 6
        }
      ]
    },
    {
      "cell_type": "code",
      "source": [
        "fruit[:-1]"
      ],
      "metadata": {
        "colab": {
          "base_uri": "https://localhost:8080/"
        },
        "id": "rQYOuZKaK-rU",
        "outputId": "5da154cf-f1ce-46dd-afdd-5b99c152603c"
      },
      "execution_count": 7,
      "outputs": [
        {
          "output_type": "execute_result",
          "data": {
            "text/plain": [
              "['apple', 'strawberry']"
            ]
          },
          "metadata": {},
          "execution_count": 7
        }
      ]
    },
    {
      "cell_type": "code",
      "source": [
        "for my_fruit in fruit:\n",
        "    print(f\"This my cool fruit: {my_fruit}\")"
      ],
      "metadata": {
        "colab": {
          "base_uri": "https://localhost:8080/"
        },
        "id": "iRM5rCiJLB2Z",
        "outputId": "9c6dffd5-37f1-4b92-a363-e6873238db11"
      },
      "execution_count": 8,
      "outputs": [
        {
          "output_type": "stream",
          "name": "stdout",
          "text": [
            "This my cool fruit: apple\n",
            "This my cool fruit: strawberry\n",
            "This my cool fruit: peer\n"
          ]
        }
      ]
    },
    {
      "cell_type": "markdown",
      "source": [
        "#### DICTIONARY"
      ],
      "metadata": {
        "id": "9iXsB-UaLXwc"
      }
    },
    {
      "cell_type": "code",
      "source": [
        "meal ={\"breakfast\":\"coffee\",\"lunch\":\"salad\",\"dinner\":\"rice and chicken\"}"
      ],
      "metadata": {
        "id": "d1Gh8sVKLapQ"
      },
      "execution_count": 9,
      "outputs": []
    },
    {
      "cell_type": "code",
      "source": [
        "meal.keys()"
      ],
      "metadata": {
        "colab": {
          "base_uri": "https://localhost:8080/"
        },
        "id": "-q2yKCRzLmyf",
        "outputId": "0d113733-51c9-41dd-af5b-8cde1e9c20ea"
      },
      "execution_count": 10,
      "outputs": [
        {
          "output_type": "execute_result",
          "data": {
            "text/plain": [
              "dict_keys(['breakfast', 'lunch', 'dinner'])"
            ]
          },
          "metadata": {},
          "execution_count": 10
        }
      ]
    },
    {
      "cell_type": "code",
      "source": [
        "meal.values()"
      ],
      "metadata": {
        "colab": {
          "base_uri": "https://localhost:8080/"
        },
        "id": "X50ZJkMBLq98",
        "outputId": "94371256-aab5-48ae-c0b2-b790e5a796be"
      },
      "execution_count": 11,
      "outputs": [
        {
          "output_type": "execute_result",
          "data": {
            "text/plain": [
              "dict_values(['coffee', 'salad', 'rice and chicken'])"
            ]
          },
          "metadata": {},
          "execution_count": 11
        }
      ]
    },
    {
      "cell_type": "code",
      "source": [
        "for meal_name, meal_item in meal.items():\n",
        "    print(f\"This meal {meal_name} is when I like to consume {meal_item}\")"
      ],
      "metadata": {
        "colab": {
          "base_uri": "https://localhost:8080/"
        },
        "id": "HqTrfe__LwWR",
        "outputId": "e305e913-df98-48e6-c41b-f5b61f636cdb"
      },
      "execution_count": 14,
      "outputs": [
        {
          "output_type": "stream",
          "name": "stdout",
          "text": [
            "This meal breakfast is when I like to consume coffee\n",
            "This meal lunch is when I like to consume salad\n",
            "This meal dinner is when I like to consume rice and chicken\n"
          ]
        }
      ]
    }
  ]
}